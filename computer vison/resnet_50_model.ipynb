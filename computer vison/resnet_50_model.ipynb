{
 "cells": [
  {
   "cell_type": "code",
   "execution_count": 1,
   "id": "44aa54c017c3b8ac",
   "metadata": {
    "ExecuteTime": {
     "end_time": "2024-10-16T03:17:09.812022Z",
     "start_time": "2024-10-16T03:17:04.253149Z"
    }
   },
   "outputs": [
    {
     "name": "stderr",
     "output_type": "stream",
     "text": [
      "2024-10-18 22:30:29.820597: I tensorflow/core/util/port.cc:153] oneDNN custom operations are on. You may see slightly different numerical results due to floating-point round-off errors from different computation orders. To turn them off, set the environment variable `TF_ENABLE_ONEDNN_OPTS=0`.\n",
      "2024-10-18 22:30:29.835392: E external/local_xla/xla/stream_executor/cuda/cuda_fft.cc:485] Unable to register cuFFT factory: Attempting to register factory for plugin cuFFT when one has already been registered\n",
      "2024-10-18 22:30:29.859308: E external/local_xla/xla/stream_executor/cuda/cuda_dnn.cc:8454] Unable to register cuDNN factory: Attempting to register factory for plugin cuDNN when one has already been registered\n",
      "2024-10-18 22:30:29.864309: E external/local_xla/xla/stream_executor/cuda/cuda_blas.cc:1452] Unable to register cuBLAS factory: Attempting to register factory for plugin cuBLAS when one has already been registered\n",
      "2024-10-18 22:30:29.877367: I tensorflow/core/platform/cpu_feature_guard.cc:210] This TensorFlow binary is optimized to use available CPU instructions in performance-critical operations.\n",
      "To enable the following instructions: AVX2 AVX512F AVX512_VNNI AVX512_BF16 AVX512_FP16 AVX_VNNI AMX_TILE AMX_INT8 AMX_BF16 FMA, in other operations, rebuild TensorFlow with the appropriate compiler flags.\n",
      "2024-10-18 22:30:30.743710: W tensorflow/compiler/tf2tensorrt/utils/py_utils.cc:38] TF-TRT Warning: Could not find TensorRT\n"
     ]
    },
    {
     "name": "stdout",
     "output_type": "stream",
     "text": [
      "2.17.0\n",
      "Num GPUs Available:  1\n"
     ]
    }
   ],
   "source": [
    "import torch\n",
    "from torchvision import transforms\n",
    "from torch.utils.data import DataLoader, Dataset\n",
    "from PIL import Image\n",
    "import pandas as pd\n",
    "import os\n",
    "import tensorflow as tf\n",
    "import env \n",
    "\n",
    "\n",
    "print(tf.__version__)\n",
    "\n",
    "\n",
    "print(\"Num GPUs Available: \", len(tf.config.experimental.list_physical_devices('GPU')))\n",
    "\n"
   ]
  },
  {
   "cell_type": "code",
   "execution_count": 23,
   "id": "2b7bde1c7d6322b4",
   "metadata": {
    "ExecuteTime": {
     "end_time": "2024-10-16T04:18:54.068771Z",
     "start_time": "2024-10-16T04:18:54.047774Z"
    }
   },
   "outputs": [],
   "source": [
    "import utils.data as dl\n",
    "from torch.utils.data import ConcatDataset, DataLoader\n",
    "\n",
    "train_transform = transforms.Compose([\n",
    "    transforms.RandomHorizontalFlip(p=0.5),  # Random horizontal flip with a probability of 50%\n",
    "    transforms.RandomVerticalFlip(p=0.5),  # Random vertical flip with a probability of 50%\n",
    "    transforms.RandomRotation(degrees=15),  # Random rotation within ±15 degrees\n",
    "    transforms.RandomResizedCrop(size=(224, 224), scale=(0.8, 1.0)),  # Random resized crop, resizing to 224x224 pixels\n",
    "    transforms.ColorJitter(brightness=0.4, contrast=0.4, saturation=0.4, hue=0.2),  # Random color jitter for brightness, contrast, saturation, and hue\n",
    "    transforms.ToTensor(),  # Convert the image to a Tensor\n",
    "    transforms.Normalize(mean=[0.485, 0.456, 0.406], std=[0.229, 0.224, 0.225])  # Normalize the image with the given mean and standard deviation\n",
    "])\n",
    "\n",
    "\n",
    "val_transform = transforms.Compose([\n",
    "    transforms.Resize(256),\n",
    "    transforms.CenterCrop(224),\n",
    "    transforms.ToTensor(),\n",
    "    transforms.Normalize(mean=[0.485, 0.456, 0.406], std=[0.229, 0.224, 0.225])\n",
    "])\n",
    "\n",
    "\n",
    "test_transform = transforms.Compose([\n",
    "    transforms.Resize((224, 224)),  \n",
    "    transforms.ToTensor(),  \n",
    "    # transforms.Normalize([0.485, 0.456, 0.406], [0.229, 0.224, 0.225])  \n",
    "])\n",
    "\n",
    "\n",
    "train_df = pd.read_csv('train.csv')  \n",
    "test_df = pd.read_csv('test.csv')\n",
    "\n",
    "class CustomImageDatasetTrain(Dataset):\n",
    "    def __init__(self, dataframe, img_dir, transform=None):\n",
    "        self.dataframe = dataframe\n",
    "        self.img_dir = img_dir\n",
    "        self.transform = transform\n",
    "\n",
    "    def __len__(self):\n",
    "        return len(self.dataframe)\n",
    "\n",
    "    def __getitem__(self, idx):\n",
    "        img_name = os.path.join(self.img_dir, str(self.dataframe.iloc[idx, 0]) + '.jpg')\n",
    "        image = Image.open(img_name)\n",
    "        label = self.dataframe.iloc[idx, 6]\n",
    "        stable_height = self.dataframe.iloc[idx]['stable_height']\n",
    "        total_height = self.dataframe.iloc[idx]['total_height']\n",
    "\n",
    "        if self.transform:\n",
    "            image = self.transform(image)\n",
    "        return image, label\n",
    "class CustomImageDatasetTest(Dataset):\n",
    "    def __init__(self, dataframe, img_dir, transform=None):\n",
    "        self.dataframe = dataframe\n",
    "        self.img_dir = img_dir\n",
    "        self.transform = transform\n",
    "\n",
    "    def __len__(self):\n",
    "        return len(self.dataframe)\n",
    "\n",
    "    def __getitem__(self, idx):\n",
    "        img_name = os.path.join(self.img_dir, str(self.dataframe.iloc[idx, 0]) + '.jpg')\n",
    "        image = Image.open(img_name)\n",
    "        label = self.dataframe.iloc[idx, 0]\n",
    "        if self.transform:\n",
    "            image = self.transform(image)\n",
    "        return image, label\n",
    "# split dataset to 2:8\n",
    "train_size = int(0.8 * len(train_df))\n",
    "val_size = len(train_df) - train_size\n",
    "\n",
    "train_df_split = train_df.sample(n=train_size, random_state=42)\n",
    "val_df_split = train_df.drop(train_df_split.index)\n",
    "\n",
    "train_dataset1 = CustomImageDatasetTrain(dataframe=train_df_split, img_dir='train', transform=train_transform)\n",
    "train_dataset = CustomImageDatasetTrain(dataframe=train_df_split, img_dir='train', transform=train_transform)\n",
    "val_dataset = CustomImageDatasetTrain(dataframe=val_df_split, img_dir='train', transform=test_transform)\n",
    "test_dataset = CustomImageDatasetTest(dataframe=test_df, img_dir='test', transform=val_transform)\n",
    "\n",
    "# Create an extended dataset by duplicating the existing dataset\n",
    "extended_dataset = ConcatDataset([train_dataset, train_dataset1])\n",
    "# Use DataLoader to load the extended dataset\n",
    "train_loader = DataLoader(extended_dataset, batch_size=32, shuffle=True)\n",
    "\n",
    "# train_loader = DataLoader(train_dataset, batch_size=32, shuffle=False)\n",
    "val_loader = DataLoader(val_dataset, batch_size=32, shuffle=False)\n",
    "test_loader = DataLoader(test_dataset, batch_size=32, shuffle=False)"
   ]
  },
  {
   "cell_type": "code",
   "execution_count": 24,
   "id": "2aa8ed70-92b7-4635-8c76-46fbb99f271b",
   "metadata": {},
   "outputs": [
    {
     "name": "stdout",
     "output_type": "stream",
     "text": [
      "Total samples in train_loader: 12288\n",
      "Batch size: 32\n",
      "Total batches: 384\n"
     ]
    }
   ],
   "source": [
    "def print_train_loader_info(train_loader):\n",
    "    # Total amount of training data printed\n",
    "    total_samples = len(train_loader.dataset)\n",
    "\n",
    "    batch_size = train_loader.batch_size\n",
    "\n",
    "    total_batches = len(train_loader)\n",
    "\n",
    "    print(f\"Total samples in train_loader: {total_samples}\")\n",
    "    print(f\"Batch size: {batch_size}\")\n",
    "    print(f\"Total batches: {total_batches}\")\n",
    "print_train_loader_info(train_loader)"
   ]
  },
  {
   "cell_type": "code",
   "execution_count": 26,
   "id": "2b859c396f021321",
   "metadata": {
    "ExecuteTime": {
     "end_time": "2024-10-16T04:20:21.684985Z",
     "start_time": "2024-10-16T04:20:14.930056Z"
    }
   },
   "outputs": [
    {
     "name": "stderr",
     "output_type": "stream",
     "text": [
      "/root/miniconda3/lib/python3.12/site-packages/torchvision/models/_utils.py:208: UserWarning: The parameter 'pretrained' is deprecated since 0.13 and may be removed in the future, please use 'weights' instead.\n",
      "  warnings.warn(\n",
      "/root/miniconda3/lib/python3.12/site-packages/torchvision/models/_utils.py:223: UserWarning: Arguments other than a weight enum or `None` for 'weights' are deprecated since 0.13 and may be removed in the future. The current behavior is equivalent to passing `weights=ResNet50_Weights.IMAGENET1K_V1`. You can also use `weights=ResNet50_Weights.DEFAULT` to get the most up-to-date weights.\n",
      "  warnings.warn(msg)\n"
     ]
    },
    {
     "name": "stdout",
     "output_type": "stream",
     "text": [
      "\n",
      "Epoch 1/15\n"
     ]
    },
    {
     "name": "stderr",
     "output_type": "stream",
     "text": [
      "                                                                         \r"
     ]
    },
    {
     "name": "stdout",
     "output_type": "stream",
     "text": [
      "Epoch 1 Train Loss: 0.7136 | Exact Acc: 0.2723 | Approx Acc: 0.7129\n",
      "Epoch 1 Validation Loss: 0.6229 | Val Exact Acc: 0.2826 | Val Approx Acc: 0.7572\n",
      "\n",
      "Epoch 2/15\n"
     ]
    },
    {
     "name": "stderr",
     "output_type": "stream",
     "text": [
      "                                                                         \r"
     ]
    },
    {
     "name": "stdout",
     "output_type": "stream",
     "text": [
      "Epoch 2 Train Loss: 0.6148 | Exact Acc: 0.3334 | Approx Acc: 0.7648\n",
      "Epoch 2 Validation Loss: 0.7424 | Val Exact Acc: 0.2936 | Val Approx Acc: 0.7207\n",
      "\n",
      "Epoch 3/15\n"
     ]
    },
    {
     "name": "stderr",
     "output_type": "stream",
     "text": [
      "                                                                         \r"
     ]
    },
    {
     "name": "stdout",
     "output_type": "stream",
     "text": [
      "Epoch 3 Train Loss: 0.5758 | Exact Acc: 0.3661 | Approx Acc: 0.7847\n",
      "Epoch 3 Validation Loss: 0.6263 | Val Exact Acc: 0.3451 | Val Approx Acc: 0.7676\n",
      "\n",
      "Epoch 4/15\n"
     ]
    },
    {
     "name": "stderr",
     "output_type": "stream",
     "text": [
      "                                                                         \r"
     ]
    },
    {
     "name": "stdout",
     "output_type": "stream",
     "text": [
      "Epoch 4 Train Loss: 0.5520 | Exact Acc: 0.3936 | Approx Acc: 0.7974\n",
      "Epoch 4 Validation Loss: 0.6902 | Val Exact Acc: 0.3197 | Val Approx Acc: 0.7389\n",
      "\n",
      "Epoch 5/15\n"
     ]
    },
    {
     "name": "stderr",
     "output_type": "stream",
     "text": [
      "                                                                         \r"
     ]
    },
    {
     "name": "stdout",
     "output_type": "stream",
     "text": [
      "Epoch 5 Train Loss: 0.5307 | Exact Acc: 0.4011 | Approx Acc: 0.8043\n",
      "Epoch 5 Validation Loss: 0.6715 | Val Exact Acc: 0.3229 | Val Approx Acc: 0.7461\n",
      "\n",
      "Epoch 6/15\n"
     ]
    },
    {
     "name": "stderr",
     "output_type": "stream",
     "text": [
      "                                                                         \r"
     ]
    },
    {
     "name": "stdout",
     "output_type": "stream",
     "text": [
      "Epoch 6 Train Loss: 0.5151 | Exact Acc: 0.4237 | Approx Acc: 0.8105\n",
      "Epoch 6 Validation Loss: 0.6098 | Val Exact Acc: 0.3750 | Val Approx Acc: 0.7611\n",
      "\n",
      "Epoch 7/15\n"
     ]
    },
    {
     "name": "stderr",
     "output_type": "stream",
     "text": [
      "                                                                         \r"
     ]
    },
    {
     "name": "stdout",
     "output_type": "stream",
     "text": [
      "Epoch 7 Train Loss: 0.5050 | Exact Acc: 0.4272 | Approx Acc: 0.8127\n",
      "Epoch 7 Validation Loss: 0.5397 | Val Exact Acc: 0.4017 | Val Approx Acc: 0.8034\n",
      "\n",
      "Epoch 8/15\n"
     ]
    },
    {
     "name": "stderr",
     "output_type": "stream",
     "text": [
      "                                                                         \r"
     ]
    },
    {
     "name": "stdout",
     "output_type": "stream",
     "text": [
      "Epoch 8 Train Loss: 0.4986 | Exact Acc: 0.4362 | Approx Acc: 0.8184\n",
      "Epoch 8 Validation Loss: 0.5831 | Val Exact Acc: 0.3672 | Val Approx Acc: 0.7812\n",
      "\n",
      "Epoch 9/15\n"
     ]
    },
    {
     "name": "stderr",
     "output_type": "stream",
     "text": [
      "                                                                         \r"
     ]
    },
    {
     "name": "stdout",
     "output_type": "stream",
     "text": [
      "Epoch 9 Train Loss: 0.4827 | Exact Acc: 0.4542 | Approx Acc: 0.8215\n",
      "Epoch 9 Validation Loss: 0.5601 | Val Exact Acc: 0.3750 | Val Approx Acc: 0.7969\n",
      "\n",
      "Epoch 10/15\n"
     ]
    },
    {
     "name": "stderr",
     "output_type": "stream",
     "text": [
      "                                                                          \r"
     ]
    },
    {
     "name": "stdout",
     "output_type": "stream",
     "text": [
      "Epoch 10 Train Loss: 0.4759 | Exact Acc: 0.4604 | Approx Acc: 0.8299\n",
      "Epoch 10 Validation Loss: 0.5185 | Val Exact Acc: 0.4141 | Val Approx Acc: 0.8060\n",
      "\n",
      "Epoch 11/15\n"
     ]
    },
    {
     "name": "stderr",
     "output_type": "stream",
     "text": [
      "                                                                          \r"
     ]
    },
    {
     "name": "stdout",
     "output_type": "stream",
     "text": [
      "Epoch 11 Train Loss: 0.4316 | Exact Acc: 0.4897 | Approx Acc: 0.8489\n",
      "Epoch 11 Validation Loss: 0.5035 | Val Exact Acc: 0.4368 | Val Approx Acc: 0.8138\n",
      "\n",
      "Epoch 12/15\n"
     ]
    },
    {
     "name": "stderr",
     "output_type": "stream",
     "text": [
      "                                                                          \r"
     ]
    },
    {
     "name": "stdout",
     "output_type": "stream",
     "text": [
      "Epoch 12 Train Loss: 0.4125 | Exact Acc: 0.5113 | Approx Acc: 0.8550\n",
      "Epoch 12 Validation Loss: 0.5117 | Val Exact Acc: 0.4297 | Val Approx Acc: 0.8125\n",
      "\n",
      "Epoch 13/15\n"
     ]
    },
    {
     "name": "stderr",
     "output_type": "stream",
     "text": [
      "                                                                          \r"
     ]
    },
    {
     "name": "stdout",
     "output_type": "stream",
     "text": [
      "Epoch 13 Train Loss: 0.4089 | Exact Acc: 0.5128 | Approx Acc: 0.8572\n",
      "Epoch 13 Validation Loss: 0.5054 | Val Exact Acc: 0.4414 | Val Approx Acc: 0.8138\n",
      "\n",
      "Epoch 14/15\n"
     ]
    },
    {
     "name": "stderr",
     "output_type": "stream",
     "text": [
      "                                                                          \r"
     ]
    },
    {
     "name": "stdout",
     "output_type": "stream",
     "text": [
      "Epoch 14 Train Loss: 0.3921 | Exact Acc: 0.5187 | Approx Acc: 0.8643\n",
      "Epoch 14 Validation Loss: 0.5030 | Val Exact Acc: 0.4486 | Val Approx Acc: 0.8105\n",
      "\n",
      "Epoch 15/15\n"
     ]
    },
    {
     "name": "stderr",
     "output_type": "stream",
     "text": [
      "                                                                          \r"
     ]
    },
    {
     "name": "stdout",
     "output_type": "stream",
     "text": [
      "Epoch 15 Train Loss: 0.3871 | Exact Acc: 0.5343 | Approx Acc: 0.8647\n",
      "Epoch 15 Validation Loss: 0.5083 | Val Exact Acc: 0.4368 | Val Approx Acc: 0.8158\n",
      "Results saved to resnet50_result.json\n"
     ]
    }
   ],
   "source": [
    "import torch\n",
    "import torch.nn as nn\n",
    "import torch.optim as optim\n",
    "from torchvision import models, transforms\n",
    "from torch.optim.lr_scheduler import StepLR\n",
    "from torch.utils.data import DataLoader, Dataset\n",
    "from tqdm import tqdm\n",
    "import numpy as np\n",
    "import pandas as pd\n",
    "from PIL import Image\n",
    "import os\n",
    "\n",
    "class ResNetConfig:\n",
    "    def __init__(self,model_name='resnet50'):\n",
    "        # model configuration\n",
    "        self.model_name = model_name  \n",
    "        self.pretrained = True\n",
    "        self.freeze_encoder = False\n",
    "        self.hidden_dim = 1024\n",
    "        self.dropout = 0.5\n",
    "        self.output_dim = 1  # output a single value\n",
    "\n",
    "        # train\n",
    "        self.lr = 1e-4\n",
    "        self.epochs = 15\n",
    "        self.batch_size = 32\n",
    "        self.step_size = 10  # Step size for the learning rate scheduler\n",
    "        self.gamma = 0.1  \n",
    "        self.loss_fn = nn.SmoothL1Loss()  # Loss function, using Smooth L1 Loss,base loss\n",
    "\n",
    "        # data\n",
    "        self.image_size = (245, 200)\n",
    "        self.device = torch.device(\"cuda\" if torch.cuda.is_available() else \"cpu\")\n",
    "\n",
    "class ResNetModel(nn.Module):\n",
    "    def __init__(self, config):\n",
    "        super(ResNetModel, self).__init__()\n",
    "  \n",
    "        if config.model_name == 'resnet50':\n",
    "            self.base_model = models.resnet50(pretrained=config.pretrained)\n",
    "        elif config.model_name == 'googlenet':\n",
    "            self.base_model = models.googlenet(pretrained=config.pretrained)\n",
    "        elif config.model_name == 'inception_v3':\n",
    "            self.base_model = models.inception_v3(pretrained=config.pretrained, aux_logits=True)\n",
    "        elif config.model_name == 'mobilenet_v2':\n",
    "            self.base_model = models.mobilenet_v2(pretrained=config.pretrained)\n",
    "        elif config.model_name == 'densenet121':\n",
    "            self.base_model = models.densenet121(pretrained=config.pretrained)\n",
    "        elif config.model_name == 'vgg16':\n",
    "            self.base_model = models.vgg16(pretrained=config.pretrained)\n",
    "        else:\n",
    "            raise ValueError(f\"Unsupported model: {config.model_name}\")\n",
    "\n",
    "        # freeze encoder if needed\n",
    "        if config.freeze_encoder:\n",
    "            for param in self.base_model.parameters():\n",
    "                param.requires_grad = False\n",
    "\n",
    "        # change fc \n",
    "        num_ftrs = self.base_model.fc.in_features\n",
    "        self.base_model.fc = nn.Sequential(\n",
    "            nn.Linear(num_ftrs, config.hidden_dim),\n",
    "            nn.ReLU(),\n",
    "            nn.Dropout(config.dropout),\n",
    "            nn.Linear(config.hidden_dim, config.output_dim)\n",
    "        )\n",
    "\n",
    "    def forward(self, x):\n",
    "        return self.base_model(x)\n",
    "\n",
    "# calculate approximate accuracy function\n",
    "def approximate_accuracy(outputs, labels, tolerance=1.0):\n",
    "    \n",
    "    preds = torch.round(outputs.squeeze()) \n",
    "    correct = torch.abs(preds - labels) <= tolerance  \n",
    "    return correct.sum().item()  \n",
    "\n",
    "# calculate exact accuracy \n",
    "def exact_accuracy(outputs, labels):\n",
    "\n",
    "    preds = torch.round(outputs.squeeze()) \n",
    "    correct = torch.abs(preds - labels) <= 0  \n",
    "    return correct.sum().item()\n",
    "def train(model, train_loader, val_loader, config, optimizer, scheduler):\n",
    "    model = model.to(config.device)  # move to gpu\n",
    "    epoch_results = []  \n",
    "\n",
    "    for epoch in range(config.epochs):\n",
    "        model.train()\n",
    "        running_loss = 0.0\n",
    "        correct_exact = 0\n",
    "        correct_approx = 0\n",
    "        total = 0\n",
    "\n",
    "        print(f\"\\nEpoch {epoch + 1}/{config.epochs}\")\n",
    "\n",
    "        progress_bar = tqdm(train_loader, desc=f\"Epoch {epoch + 1}/{config.epochs}\", leave=False)\n",
    "        for inputs, labels in progress_bar:\n",
    "            inputs, labels = inputs.to(config.device), labels.to(config.device)\n",
    "\n",
    "            optimizer.zero_grad()  \n",
    "            outputs = model(inputs)  \n",
    "            loss = config.loss_fn(outputs.squeeze(), labels.float())  \n",
    "            loss.backward()  \n",
    "            optimizer.step() \n",
    "\n",
    "            running_loss += loss.item()\n",
    "            total += labels.size(0)\n",
    "            correct_exact += exact_accuracy(outputs, labels)  \n",
    "            correct_approx += approximate_accuracy(outputs, labels)  \n",
    "\n",
    "            progress_bar.set_postfix(loss=loss.item())\n",
    "\n",
    "        scheduler.step()  \n",
    "\n",
    "        \n",
    "        train_loss = running_loss / len(train_loader)\n",
    "        train_exact_acc = correct_exact / total\n",
    "        train_approx_acc = correct_approx / total\n",
    "        print(f\"Epoch {epoch + 1} Train Loss: {train_loss:.4f} | Exact Acc: {train_exact_acc:.4f} | Approx Acc: {train_approx_acc:.4f}\")\n",
    "\n",
    "        # validating phase\n",
    "        val_results = evaluate(model, val_loader, config)\n",
    "        print(f\"Epoch {epoch + 1} Validation Loss: {val_results['val_loss']:.4f} | Val Exact Acc: {val_results['val_exact_acc']:.4f} | Val Approx Acc: {val_results['val_approx_acc']:.4f}\")\n",
    "\n",
    "        # store result\n",
    "        epoch_results.append({\n",
    "            \"epoch\": epoch + 1,\n",
    "            \"train_loss\": train_loss,\n",
    "            \"train_exact_acc\": train_exact_acc,\n",
    "            \"train_approx_acc\": train_approx_acc,\n",
    "            \"val_loss\": val_results['val_loss'],\n",
    "            \"val_exact_acc\": val_results['val_exact_acc'],\n",
    "            \"val_approx_acc\": val_results['val_approx_acc']\n",
    "        })\n",
    "\n",
    "    return epoch_results  \n",
    "\n",
    "\n",
    "def evaluate(model, val_loader, config):\n",
    "    model.eval()  \n",
    "    running_loss = 0.0\n",
    "    correct_exact = 0\n",
    "    correct_approx = 0\n",
    "    total = 0\n",
    "\n",
    "    with torch.no_grad():\n",
    "        for inputs, labels in val_loader:\n",
    "            inputs, labels = inputs.to(config.device), labels.to(config.device)\n",
    "            outputs = model(inputs)\n",
    "            loss = config.loss_fn(outputs.squeeze(), labels.float())\n",
    "            running_loss += loss.item()\n",
    "\n",
    "            total += labels.size(0)\n",
    "            correct_exact += exact_accuracy(outputs, labels)  \n",
    "            correct_approx += approximate_accuracy(outputs, labels)  \n",
    "\n",
    "   \n",
    "    val_loss = running_loss / len(val_loader)\n",
    "    val_exact_acc = correct_exact / total\n",
    "    val_approx_acc = correct_approx / total\n",
    "   \n",
    "\n",
    "    return {\n",
    "        \"val_loss\": val_loss,\n",
    "        \"val_exact_acc\": val_exact_acc,\n",
    "        \"val_approx_acc\": val_approx_acc\n",
    "    }\n",
    "\n",
    "\n",
    "# different config\n",
    "config = ResNetConfig(model_name='resnet50')\n",
    "\n",
    "\n",
    "model = ResNetModel(config)\n",
    "\n",
    "\n",
    "optimizer = optim.Adam(filter(lambda p: p.requires_grad, model.parameters()), lr=config.lr)\n",
    "scheduler = StepLR(optimizer, step_size=config.step_size, gamma=config.gamma)\n",
    "# scheduler = torch.optim.lr_scheduler.StepLR(optimizer, step_size=5, gamma=0.1) other choices\n",
    "# scheduler = torch.optim.lr_scheduler.ReduceLROnPlateau(optimizer, 'min')\n",
    "\n",
    "\n",
    "# train and get result\n",
    "epoch_results = train(model, train_loader, val_loader, config, optimizer, scheduler)\n",
    "import json\n",
    "\n",
    "def save_results_to_json(epoch_results, filename=\"resnet50_result.json\"):\n",
    "    # Aggregate and store all results in a JSON document\n",
    "    with open(filename, \"w\") as f:\n",
    "        json.dump(epoch_results, f, indent=4)\n",
    "    print(f\"Results saved to {filename}\")\n",
    "save_results_to_json(epoch_results, filename=\"resnet50_result.json\")\n",
    "\n"
   ]
  },
  {
   "cell_type": "code",
   "execution_count": 28,
   "id": "19b2eabf-c3e9-4c4f-a3bb-836f55d9d608",
   "metadata": {},
   "outputs": [
    {
     "data": {
      "image/png": "[encoded data removed]",
      "text/plain": [
       "<Figure size 1200x600 with 2 Axes>"
      ]
     },
     "metadata": {},
     "output_type": "display_data"
    }
   ],
   "source": [
    "import matplotlib.pyplot as plt\n",
    "\n",
    "def plot_loss_and_accuracy(epoch_results):\n",
    "    # get result data\n",
    "    epochs = [res[\"epoch\"] for res in epoch_results]\n",
    "    train_loss = [res[\"train_loss\"] for res in epoch_results]\n",
    "    val_loss = [res[\"val_loss\"] for res in epoch_results]\n",
    "    train_exact_acc = [res[\"train_exact_acc\"] for res in epoch_results]\n",
    "    val_exact_acc = [res[\"val_exact_acc\"] for res in epoch_results]\n",
    "    train_approx_acc = [res[\"train_approx_acc\"] for res in epoch_results]\n",
    "    val_approx_acc = [res[\"val_approx_acc\"] for res in epoch_results]\n",
    "\n",
    "\n",
    "    plt.figure(figsize=(12, 6))\n",
    "    \n",
    "    # print loss curve\n",
    "    plt.subplot(1, 2, 1)\n",
    "    plt.plot(epochs, train_loss, label='Train Loss', marker='o')\n",
    "    plt.plot(epochs, val_loss, label='Validation Loss', marker='o')\n",
    "    plt.xlabel('Epoch')\n",
    "    plt.ylabel('Loss')\n",
    "    plt.title('Loss Curve')\n",
    "    plt.legend()\n",
    "\n",
    "    # print Accuracy curve\n",
    "    plt.subplot(1, 2, 2)\n",
    "    plt.plot(epochs, train_exact_acc, label='Train Exact Acc', marker='o')\n",
    "    plt.plot(epochs, val_exact_acc, label='Validation Exact Acc', marker='o')\n",
    "    plt.plot(epochs, train_approx_acc, label='Train Approx Acc', marker='x')\n",
    "    plt.plot(epochs, val_approx_acc, label='Validation Approx Acc', marker='x')\n",
    "    plt.xlabel('Epoch')\n",
    "    plt.ylabel('Accuracy')\n",
    "    plt.title('Accuracy Curve')\n",
    "    plt.legend()\n",
    "\n",
    "    plt.tight_layout()\n",
    "    plt.show()\n",
    "\n",
    "def plot_from_json(json_file):\n",
    "    \n",
    "    with open(json_file, \"r\") as f:\n",
    "        epoch_results = json.load(f)\n",
    "\n",
    "\n",
    "    plot_loss_and_accuracy(epoch_results)\n",
    "\n",
    "\n",
    "plot_from_json(\"resnet50_result.json\")"
   ]
  },
  {
   "cell_type": "code",
   "execution_count": 29,
   "id": "8435ea9b32a3b42b",
   "metadata": {},
   "outputs": [
    {
     "name": "stderr",
     "output_type": "stream",
     "text": [
      "Predicting: 100%|██████████| 60/60 [00:04<00:00, 12.35it/s]"
     ]
    },
    {
     "name": "stdout",
     "output_type": "stream",
     "text": [
      "     id  stable_height\n",
      "0    95              4\n",
      "1   706              2\n",
      "2  2854              1\n",
      "3  3093              4\n",
      "4  4283              3\n"
     ]
    },
    {
     "name": "stderr",
     "output_type": "stream",
     "text": [
      "\n"
     ]
    }
   ],
   "source": [
    "import torch\n",
    "import pandas as pd\n",
    "from torch.utils.data import DataLoader\n",
    "from tqdm import tqdm\n",
    "\n",
    "model.eval()\n",
    "\n",
    "# List to store the prediction results\n",
    "predictions = []\n",
    "\n",
    "with torch.no_grad():\n",
    "    for inputs, _ in tqdm(test_loader, desc=\"Predicting\"):\n",
    "        inputs = inputs.to(\"cuda\")\n",
    "\n",
    "        # Get model predictions\n",
    "        outputs = model(inputs).squeeze()\n",
    "\n",
    "        # Move the predictions to the CPU and convert to list format\n",
    "        preds = outputs.cpu().numpy().tolist()\n",
    "\n",
    "        # Apply rounding rule: round up if greater than 0.5\n",
    "        rounded_preds = [int(round(p)) for p in preds]\n",
    "\n",
    "        predictions.extend(rounded_preds)\n",
    "\n",
    "# Combine the results with the original DataFrame's filenames\n",
    "result = pd.DataFrame({\n",
    "    \"id\": test_dataset.dataframe.iloc[:, 0],  \n",
    "    \"stable_height\": predictions  # model result\n",
    "})\n",
    "\n",
    "print(result.head())\n",
    "\n",
    "result.to_csv(\"predictions.csv\", index=False)\n"
   ]
  },
  {
   "cell_type": "code",
   "execution_count": null,
   "id": "63007d1e-3f99-439b-a64d-c861e61385dd",
   "metadata": {},
   "outputs": [],
   "source": []
  }
 ],
 "metadata": {
  "kernelspec": {
   "display_name": "Python 3 (ipykernel)",
   "language": "python",
   "name": "python3"
  },
  "language_info": {
   "codemirror_mode": {
    "name": "ipython",
    "version": 3
   },
   "file_extension": ".py",
   "mimetype": "text/x-python",
   "name": "python",
   "nbconvert_exporter": "python",
   "pygments_lexer": "ipython3",
   "version": "3.12.3"
  }
 },
 "nbformat": 4,
 "nbformat_minor": 5
}
